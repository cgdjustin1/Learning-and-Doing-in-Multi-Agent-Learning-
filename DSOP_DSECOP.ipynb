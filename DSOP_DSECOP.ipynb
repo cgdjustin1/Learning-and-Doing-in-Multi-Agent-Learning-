{
 "cells": [
  {
   "cell_type": "markdown",
   "id": "a8775805-e3f9-47bf-898e-eb36e9191e65",
   "metadata": {},
   "source": [
    "### Try to find an example to solve the polymatrix game"
   ]
  },
  {
   "cell_type": "markdown",
   "id": "2ca9c034-2043-4a23-b8cc-d8f2ccf2d4fa",
   "metadata": {},
   "source": [
    "#### 1. Define the initial setting"
   ]
  },
  {
   "cell_type": "code",
   "execution_count": null,
   "id": "08ccd578-6b57-4dfb-897b-058a795b187a",
   "metadata": {},
   "outputs": [],
   "source": [
    "import numpy as np\n",
    "\n",
    "# 假设有3个玩家，每个玩家有2个可能的动作\n",
    "num_players = 3\n",
    "action_space = [2, 2, 2]  # 每个玩家的动作数\n",
    "\n",
    "# 定义初始的效用矩阵 (这是一个随机矩阵示例)\n",
    "A_0 = [np.random.rand(action_space[i], action_space[j]) for i in range(num_players) for j in range(num_players) if i != j]\n",
    "\n",
    "# 初始的效用矩阵，列表形式，A_0[i][j]表示第i个玩家与第j个玩家之间的效用矩阵\n"
   ]
  },
  {
   "cell_type": "markdown",
   "id": "49c599ed-dc66-436f-b860-817b3f0bcbf0",
   "metadata": {},
   "source": [
    "#### 2. Define the DSOP"
   ]
  },
  {
   "cell_type": "code",
   "execution_count": 101,
   "id": "108ada48-2adb-451f-81bd-8756b49a2db7",
   "metadata": {},
   "outputs": [
    {
     "name": "stdout",
     "output_type": "stream",
     "text": [
      "初始矩阵 A^(2,1):\n",
      "[[0.04077514 0.59089294]\n",
      " [0.67756436 0.01658783]]\n",
      "初始矩阵 A^(3,1):\n",
      "[[0.51209306 0.22649578]\n",
      " [0.64517279 0.17436643]]\n",
      "调整后的矩阵 A^(2,1):\n",
      "[[0.04077514 0.59089294]\n",
      " [0.67756436 0.01658783]]\n",
      "调整后的矩阵 A^(3,1):\n",
      "[[0.51209306 0.22649578]\n",
      " [0.64517279 0.17436643]]\n",
      "调整成本 A^(2,1): 0.0\n",
      "调整成本 A^(3,1): 0.0\n",
      "总调整成本: 0.0\n",
      "调整完成并打印结果。\n"
     ]
    }
   ],
   "source": [
    "import numpy as np\n",
    "from scipy.optimize import linprog\n",
    "\n",
    "def dsop_solution_simple(A_21_0, A_31_0):\n",
    "    num_vars = 4  # 每个矩阵有2x2 = 4个变量\n",
    "\n",
    "    # 定义目标函数：最小化绝对值和\n",
    "    c = np.ones(num_vars * 2)\n",
    "\n",
    "    # 定义约束条件矩阵和右侧的常数向量\n",
    "    A_eq = []\n",
    "    b_eq = []\n",
    "\n",
    "    # 构建线性化的绝对值约束\n",
    "    for i in range(2):\n",
    "        for j in range(2):\n",
    "            # A(2,1) 矩阵的线性化绝对值约束\n",
    "            A_eq.append([1 if (p == i and q == j) else 0 for p in range(2) for q in range(2)] + [0, 0, 0, 0])\n",
    "            b_eq.append(A_21_0[i, j])\n",
    "            A_eq.append([-1 if (p == i and q == j) else 0 for p in range(2) for q in range(2)] + [0, 0, 0, 0])\n",
    "            b_eq.append(-A_21_0[i, j])\n",
    "\n",
    "            # A(3,1) 矩阵的线性化绝对值约束\n",
    "            A_eq.append([0, 0, 0, 0] + [1 if (p == i and q == j) else 0 for p in range(2) for q in range(2)])\n",
    "            b_eq.append(A_31_0[i, j])\n",
    "            A_eq.append([0, 0, 0, 0] + [-1 if (p == i and q == j) else 0 for p in range(2) for q in range(2)])\n",
    "            b_eq.append(-A_31_0[i, j])\n",
    "\n",
    "    # 线性规划求解\n",
    "    res = linprog(c, A_eq=np.array(A_eq), b_eq=np.array(b_eq), bounds=[(0, None)]*num_vars*2, method='highs')\n",
    "\n",
    "    if res.success:\n",
    "        A_21_mod = res.x[:4].reshape(2, 2)\n",
    "        A_31_mod = res.x[4:].reshape(2, 2)\n",
    "\n",
    "        # 打印初始矩阵\n",
    "        print(\"初始矩阵 A^(2,1):\")\n",
    "        print(A_21_0)\n",
    "        print(\"初始矩阵 A^(3,1):\")\n",
    "        print(A_31_0)\n",
    "\n",
    "        # 打印调整后的矩阵\n",
    "        print(\"调整后的矩阵 A^(2,1):\")\n",
    "        print(A_21_mod)\n",
    "        print(\"调整后的矩阵 A^(3,1):\")\n",
    "        print(A_31_mod)\n",
    "\n",
    "        # 计算调整的成本（绝对值变化之和）\n",
    "        cost_A21 = np.sum(np.abs(A_21_mod - A_21_0))\n",
    "        cost_A31 = np.sum(np.abs(A_31_mod - A_31_0))\n",
    "\n",
    "        print(f\"调整成本 A^(2,1): {cost_A21}\")\n",
    "        print(f\"调整成本 A^(3,1): {cost_A31}\")\n",
    "        print(f\"总调整成本: {cost_A21 + cost_A31}\")\n",
    "\n",
    "        return A_21_mod, A_31_mod\n",
    "    else:\n",
    "        print(\"线性规划求解失败:\", res.message)\n",
    "        return None\n",
    "\n",
    "# 示例测试\n",
    "def test_dsop_solution():\n",
    "    A_21_0 = np.random.rand(2, 2)\n",
    "    A_31_0 = np.random.rand(2, 2)\n",
    "\n",
    "    solution = dsop_solution_simple(A_21_0, A_31_0)\n",
    "    if solution is not None:\n",
    "        print(\"调整完成并打印结果。\")\n",
    "    else:\n",
    "        print(\"求解失败。\")\n",
    "\n",
    "test_dsop_solution()\n"
   ]
  },
  {
   "cell_type": "markdown",
   "id": "434f5e9c-fd63-4346-b9f6-d5f8340cad8d",
   "metadata": {},
   "source": [
    "#### 3. 实现DSECOP策略"
   ]
  },
  {
   "cell_type": "code",
   "execution_count": 39,
   "id": "9e4356bd-1bf6-4845-9aa7-1db98ba1015c",
   "metadata": {},
   "outputs": [
    {
     "name": "stdout",
     "output_type": "stream",
     "text": [
      "线性规划求解失败: The problem is infeasible. (HiGHS Status 8: model_status is Infeasible; primal_status is At lower/fixed bound)\n",
      "求解失败。\n"
     ]
    }
   ],
   "source": []
  }
 ],
 "metadata": {
  "kernelspec": {
   "display_name": "Python 3 (ipykernel)",
   "language": "python",
   "name": "python3"
  },
  "language_info": {
   "codemirror_mode": {
    "name": "ipython",
    "version": 3
   },
   "file_extension": ".py",
   "mimetype": "text/x-python",
   "name": "python",
   "nbconvert_exporter": "python",
   "pygments_lexer": "ipython3",
   "version": "3.12.4"
  }
 },
 "nbformat": 4,
 "nbformat_minor": 5
}
