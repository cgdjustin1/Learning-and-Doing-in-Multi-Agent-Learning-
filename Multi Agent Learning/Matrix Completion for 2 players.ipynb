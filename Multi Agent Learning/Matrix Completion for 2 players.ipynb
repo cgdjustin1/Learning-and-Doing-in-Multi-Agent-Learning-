{
 "cells": [
  {
   "cell_type": "markdown",
   "metadata": {},
   "source": [
    "原矩阵\n",
    "[[5,3],\n",
    "[4,1]]"
   ]
  },
  {
   "cell_type": "code",
   "execution_count": 23,
   "metadata": {},
   "outputs": [],
   "source": [
    "# 简化版的 Matrix Completion\n",
    "import numpy as np\n",
    "\n",
    "class SimpleMatrixCompletion:\n",
    "    def __init__(self, matrix_shape, rank, lambda_reg):\n",
    "        self.matrix_shape = matrix_shape\n",
    "        self.rank = rank\n",
    "        self.lambda_reg = lambda_reg\n",
    "        self.P = np.random.rand(matrix_shape[0], rank)  # 初始化 P 矩阵\n",
    "        self.Q = np.random.rand(matrix_shape[1], rank)  # 初始化 Q 矩阵\n",
    "\n",
    "    def train(self, observed_entries, max_iterations=10, tolerance=1e-4):\n",
    "        for iteration in range(max_iterations):\n",
    "            # 更新 P 矩阵\n",
    "            for i in range(self.matrix_shape[0]):\n",
    "                self.P[i, :] = self._update_vector(self.Q, observed_entries, i, axis=0)\n",
    "            # 更新 Q 矩阵\n",
    "            for j in range(self.matrix_shape[1]):\n",
    "                self.Q[j, :] = self._update_vector(self.P, observed_entries, j, axis=1)\n",
    "\n",
    "        return self.P @ self.Q.T\n",
    "\n",
    "    def _update_vector(self, fixed_matrix, observed_entries, index, axis):\n",
    "        if axis == 0:  # 更新 P[i, :]\n",
    "            indices = [(index, j) for j in range(self.matrix_shape[1]) if (index, j) in observed_entries]\n",
    "        else:  # 更新 Q[j, :]\n",
    "            indices = [(i, index) for i in range(self.matrix_shape[0]) if (i, index) in observed_entries]\n",
    "\n",
    "        if not indices:  # 如果没有观测值，返回零向量\n",
    "            return np.zeros(self.rank)\n",
    "\n",
    "        A = np.array([fixed_matrix[j, :] if axis == 0 else fixed_matrix[i, :] for i, j in indices])\n",
    "        b = np.array([observed_entries[(i, j)] for i, j in indices])\n",
    "\n",
    "        return np.linalg.solve(A.T @ A + self.lambda_reg * np.eye(self.rank), A.T @ b)\n"
   ]
  },
  {
   "cell_type": "code",
   "execution_count": 27,
   "metadata": {},
   "outputs": [],
   "source": [
    "# 初始化矩阵补全\n",
    "matrix_shape = (2, 2)\n",
    "rank = 2\n",
    "lambda_reg = 0.1\n",
    "matrix_completion = SimpleMatrixCompletion(matrix_shape, rank, lambda_reg)\n",
    "\n",
    "# 初始没有任何观测值\n",
    "observed_entries = {}\n"
   ]
  },
  {
   "cell_type": "code",
   "execution_count": 28,
   "metadata": {},
   "outputs": [
    {
     "name": "stdout",
     "output_type": "stream",
     "text": [
      "Step 1 - Estimated Matrix:\n",
      " [[4.95046492 0.        ]\n",
      " [0.         0.        ]]\n"
     ]
    }
   ],
   "source": [
    "# 更新观测值\n",
    "observed_entries[(0, 0)] = 5\n",
    "\n",
    "# 训练模型并查看结果\n",
    "estimated_matrix = matrix_completion.train(observed_entries, max_iterations=10)\n",
    "print(\"Step 1 - Estimated Matrix:\\n\", estimated_matrix)\n"
   ]
  },
  {
   "cell_type": "code",
   "execution_count": 29,
   "metadata": {},
   "outputs": [
    {
     "name": "stdout",
     "output_type": "stream",
     "text": [
      "Step 2 - Estimated Matrix:\n",
      " [[4.93369823 2.96021894]\n",
      " [0.         0.        ]]\n"
     ]
    }
   ],
   "source": [
    "# 更新观测值\n",
    "observed_entries[(0, 1)] = 3\n",
    "\n",
    "# 训练模型并查看结果\n",
    "estimated_matrix = matrix_completion.train(observed_entries, max_iterations=10)\n",
    "print(\"Step 2 - Estimated Matrix:\\n\", estimated_matrix)\n"
   ]
  },
  {
   "cell_type": "code",
   "execution_count": 30,
   "metadata": {},
   "outputs": [
    {
     "name": "stdout",
     "output_type": "stream",
     "text": [
      "Step 3 - Estimated Matrix:\n",
      " [[4.96586163 2.95041103]\n",
      " [3.93779711 2.33959802]]\n"
     ]
    }
   ],
   "source": [
    "# 更新观测值\n",
    "observed_entries[(1, 0)] = 4\n",
    "\n",
    "# 训练模型并查看结果\n",
    "estimated_matrix = matrix_completion.train(observed_entries, max_iterations=10)\n",
    "print(\"Step 3 - Estimated Matrix:\\n\", estimated_matrix)\n"
   ]
  },
  {
   "cell_type": "code",
   "execution_count": 31,
   "metadata": {},
   "outputs": [
    {
     "name": "stdout",
     "output_type": "stream",
     "text": [
      "Step 4 - Estimated Matrix:\n",
      " [[4.96047629 2.91340634]\n",
      " [3.91643715 1.05770858]]\n"
     ]
    }
   ],
   "source": [
    "# 更新观测值\n",
    "observed_entries[(1, 1)] = 1\n",
    "\n",
    "# 训练模型并查看结果\n",
    "estimated_matrix = matrix_completion.train(observed_entries, max_iterations=10)\n",
    "print(\"Step 4 - Estimated Matrix:\\n\", estimated_matrix)"
   ]
  }
 ],
 "metadata": {
  "kernelspec": {
   "display_name": "base",
   "language": "python",
   "name": "python3"
  },
  "language_info": {
   "codemirror_mode": {
    "name": "ipython",
    "version": 3
   },
   "file_extension": ".py",
   "mimetype": "text/x-python",
   "name": "python",
   "nbconvert_exporter": "python",
   "pygments_lexer": "ipython3",
   "version": "3.12.4"
  }
 },
 "nbformat": 4,
 "nbformat_minor": 2
}
