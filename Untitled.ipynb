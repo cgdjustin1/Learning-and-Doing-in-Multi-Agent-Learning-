{
 "cells": [
  {
   "cell_type": "markdown",
   "id": "a8775805-e3f9-47bf-898e-eb36e9191e65",
   "metadata": {},
   "source": [
    "### Try to find an example to solve the polymatrix game"
   ]
  },
  {
   "cell_type": "markdown",
   "id": "2ca9c034-2043-4a23-b8cc-d8f2ccf2d4fa",
   "metadata": {},
   "source": [
    "#### 1. Define the initial setting"
   ]
  },
  {
   "cell_type": "code",
   "execution_count": null,
   "id": "08ccd578-6b57-4dfb-897b-058a795b187a",
   "metadata": {},
   "outputs": [],
   "source": [
    "import numpy as np\n",
    "\n",
    "# 假设有3个玩家，每个玩家有2个可能的动作\n",
    "num_players = 3\n",
    "action_space = [2, 2, 2]  # 每个玩家的动作数\n",
    "\n",
    "# 定义初始的效用矩阵 (这是一个随机矩阵示例)\n",
    "A_0 = [np.random.rand(action_space[i], action_space[j]) for i in range(num_players) for j in range(num_players) if i != j]\n",
    "\n",
    "# 初始的效用矩阵，列表形式，A_0[i][j]表示第i个玩家与第j个玩家之间的效用矩阵\n"
   ]
  },
  {
   "cell_type": "markdown",
   "id": "49c599ed-dc66-436f-b860-817b3f0bcbf0",
   "metadata": {},
   "source": [
    "#### 2. Define the DSOP"
   ]
  },
  {
   "cell_type": "code",
   "execution_count": null,
   "id": "4b873f00-dfa8-4c32-b16f-6d07420b2a8f",
   "metadata": {},
   "outputs": [],
   "source": [
    "def calculate_dsop(A_0, num_players, action_space):\n",
    "    # 这是一个简化版本，假设只需要返回一个新效用矩阵列表\n",
    "    A_new = A_0.copy()\n",
    "    # 计算新效用矩阵，使得满足DSOP的条件（此处省略详细LP求解过程）\n",
    "    # 你可以使用scipy.optimize来求解线性规划问题\n",
    "    return A_new\n",
    "\n",
    "A_dsop = calculate_dsop(A_0, num_players, action_space)\n"
   ]
  },
  {
   "cell_type": "markdown",
   "id": "434f5e9c-fd63-4346-b9f6-d5f8340cad8d",
   "metadata": {},
   "source": [
    "#### 3. 实现DSECOP策略"
   ]
  },
  {
   "cell_type": "code",
   "execution_count": null,
   "id": "9e4356bd-1bf6-4845-9aa7-1db98ba1015c",
   "metadata": {},
   "outputs": [],
   "source": [
    "def calculate_dsecop(A_0, num_players, action_space):\n",
    "    # 将时间段分成 num_players-1 个子区间，并针对每个玩家逐一优化\n",
    "    A_new_list = []\n",
    "    for target_player in range(1, num_players):\n",
    "        A_new = A_0.copy()\n",
    "        # 针对特定target_player进行优化\n",
    "        A_new_list.append(A_new)\n",
    "    return A_new_list\n",
    "\n",
    "A_dsecop_list = calculate_dsecop(A_0, num_players, action_space)\n"
   ]
  }
 ],
 "metadata": {
  "kernelspec": {
   "display_name": "Python 3 (ipykernel)",
   "language": "python",
   "name": "python3"
  },
  "language_info": {
   "codemirror_mode": {
    "name": "ipython",
    "version": 3
   },
   "file_extension": ".py",
   "mimetype": "text/x-python",
   "name": "python",
   "nbconvert_exporter": "python",
   "pygments_lexer": "ipython3",
   "version": "3.12.4"
  }
 },
 "nbformat": 4,
 "nbformat_minor": 5
}
