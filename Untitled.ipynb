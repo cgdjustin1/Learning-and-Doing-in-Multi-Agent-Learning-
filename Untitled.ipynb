{
 "cells": [
  {
   "cell_type": "markdown",
   "id": "a8775805-e3f9-47bf-898e-eb36e9191e65",
   "metadata": {},
   "source": [
    "#### Try to find an example to solve the polymatrix game"
   ]
  }
 ],
 "metadata": {
  "kernelspec": {
   "display_name": "Python 3 (ipykernel)",
   "language": "python",
   "name": "python3"
  },
  "language_info": {
   "codemirror_mode": {
    "name": "ipython",
    "version": 3
   },
   "file_extension": ".py",
   "mimetype": "text/x-python",
   "name": "python",
   "nbconvert_exporter": "python",
   "pygments_lexer": "ipython3",
   "version": "3.12.4"
  }
 },
 "nbformat": 4,
 "nbformat_minor": 5
}
